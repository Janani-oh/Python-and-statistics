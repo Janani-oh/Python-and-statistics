{
  "cells": [
    {
      "cell_type": "markdown",
      "metadata": {
        "id": "wLeUuW-8PAfg"
      },
      "source": [
        "**Quotient and Remainder**\n",
        "\n",
        "Write a Python program with a user-defined function that takes two integers as input, dividend, and divisor. Print quotient and remainder of the two numbers by dividing them using “//” and “%” operators.\n"
      ]
    },
    {
      "cell_type": "code",
      "execution_count": 1,
      "metadata": {
        "colab": {
          "base_uri": "https://localhost:8080/"
        },
        "id": "B227-Y4DOw-U",
        "outputId": "ab61ddea-261a-41c9-ce6d-7556c7b9467c"
      },
      "outputs": [
        {
          "name": "stdout",
          "output_type": "stream",
          "text": [
            "Quotient:  0\n",
            "Remainder 5\n",
            "None\n"
          ]
        }
      ],
      "source": [
        "# Quotient and reminder of two numbers\n",
        "\n",
        "##Writing a Function \n",
        "def find(dividend, divisor):\n",
        "      \n",
        "    # for quotient\n",
        "    q = dividend//divisor\n",
        "    print(\"Quotient: \", q)\n",
        "      \n",
        "    # for remainder\n",
        "    r = dividend%divisor\n",
        "    print(\"Remainder\", r)\n",
        "      \n",
        "##Taking input from user\n",
        "dividend = int(input(\"Enter the Dividend: \"))\n",
        "divisor = int(input(\"Enter the Divisor: \"))\n",
        "\n",
        "##Driver Code\n",
        "print(find(dividend, divisor))\n"
      ]
    },
    {
      "cell_type": "markdown",
      "metadata": {
        "id": "ac3FLecVPd3o"
      },
      "source": [
        "**Simple Interest Calculator**\n",
        "\n",
        "Write a program in Python to calculate simple interest using the lambda function.\n",
        "Hint: Simple interest =  (P * R * T)/100  , where P is the principal amount, R is the rate, and T is the time/number of years.\n"
      ]
    },
    {
      "cell_type": "code",
      "execution_count": 2,
      "metadata": {
        "colab": {
          "base_uri": "https://localhost:8080/"
        },
        "id": "UwXh3Y6oPiYa",
        "outputId": "d0757a65-0162-4217-c265-d1248283b9a3"
      },
      "outputs": [
        {
          "name": "stdout",
          "output_type": "stream",
          "text": [
            "The Simple Interest is: 2400.0\n"
          ]
        }
      ],
      "source": [
        "#Simple Interest Calculator\n",
        "\n",
        "principle=float(input(\"Enter the Principle Amount:\"))\n",
        "time=int(input(\"Enter the Time(Number of years):\"))\n",
        "rate=float(input(\"Enter the Interest Rate:\"))\n",
        "\n",
        "##Declaring a lambda function\n",
        "Simple_interest=lambda a, b, c: (a*b*c)//100\n",
        "print(\"The Simple Interest is:\",Simple_interest(principle, time, rate))"
      ]
    }
  ],
  "metadata": {
    "colab": {
      "collapsed_sections": [],
      "name": "DS_D4_DIY_V1.0.ipynb",
      "provenance": []
    },
    "kernelspec": {
      "display_name": "Python 3.9.7",
      "language": "python",
      "name": "python3"
    },
    "language_info": {
      "codemirror_mode": {
        "name": "ipython",
        "version": 3
      },
      "file_extension": ".py",
      "mimetype": "text/x-python",
      "name": "python",
      "nbconvert_exporter": "python",
      "pygments_lexer": "ipython3",
      "version": "3.9.7"
    },
    "vscode": {
      "interpreter": {
        "hash": "ad2bdc8ecc057115af97d19610ffacc2b4e99fae6737bb82f5d7fb13d2f2c186"
      }
    }
  },
  "nbformat": 4,
  "nbformat_minor": 0
}
