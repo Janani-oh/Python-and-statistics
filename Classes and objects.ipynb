{
  "cells": [
    {
      "cell_type": "markdown",
      "metadata": {
        "id": "QxGGW026QADc"
      },
      "source": [
        "**Math Quiz**\n",
        "\n",
        "Write a Python program to create a math quiz that generates math questions using random numbers and operators and asks the user to enter the correct answer; evaluate the answer entered by the user, and print a message whether the answer is correct or incorrect."
      ]
    },
    {
      "cell_type": "code",
      "execution_count": 2,
      "metadata": {
        "colab": {
          "base_uri": "https://localhost:8080/"
        },
        "id": "ofWLbXnTP1hD",
        "outputId": "6c7c66dc-c7fe-4573-bbaa-294cea48cf92"
      },
      "outputs": [
        {
          "name": "stdout",
          "output_type": "stream",
          "text": [
            "Alright Janani Welcome to your maths quiz\n",
            "Your question is 5 * 3\n",
            "Correct\n"
          ]
        }
      ],
      "source": [
        "#Understanding packages and libraries\n",
        "\n",
        "##Importing random library\n",
        "import random\n",
        "\n",
        "##Taking input from user\n",
        "name=input(\"What is your name?\")\n",
        "print (\"Alright\",name,\"Welcome to your maths quiz\")\n",
        "score=0\n",
        "question=0\n",
        "finish= False\n",
        "ops = ['+', '-', '*']\n",
        "rand=random.randint(1,10)\n",
        "rand2=random.randint(1,10)\n",
        "operation = random.choice(ops)\n",
        "maths = eval(str(rand) + operation + str(rand2))\n",
        "print (\"Your question is\",rand,operation,rand2)\n",
        "question=question+1\n",
        "d=int(input (\"What is your answer:\"))\n",
        "\n",
        "##Evaluating users answer with correct answer and printing the result\n",
        "if d==maths:\n",
        "    print (\"Correct\")\n",
        "    score=score+1\n",
        "else:\n",
        "    print (\"Incorrect. The Correct answer is\",maths)\n"
      ]
    },
    {
      "cell_type": "markdown",
      "metadata": {
        "id": "K7UwGlrtRh2C"
      },
      "source": [
        "**Understanding Classes and Objects**\n",
        "\n",
        "Write a Python program to create a Bus object that will inherit all of the variables and methods of the parent Vehicle class and display it. \n"
      ]
    },
    {
      "cell_type": "code",
      "execution_count": 3,
      "metadata": {
        "colab": {
          "base_uri": "https://localhost:8080/"
        },
        "id": "iPWd_Et-Rj9Q",
        "outputId": "4b1858dc-f407-496b-c329-21363097cc03"
      },
      "outputs": [
        {
          "name": "stdout",
          "output_type": "stream",
          "text": [
            "Vehicle Name: Volvo Bus Speed: 220 Mileage: 14\n"
          ]
        }
      ],
      "source": [
        "#Understanding Classes and Objects\n",
        "class Vehicle:\n",
        "\n",
        "    def __init__(self, name, max_speed, mileage):\n",
        "        self.name = name\n",
        "        self.max_speed = max_speed\n",
        "        self.mileage = mileage\n",
        "\n",
        "class Bus(Vehicle):\n",
        "    pass\n",
        "\n",
        "bus = Bus(\"Volvo Bus\", 220, 14)\n",
        "print(\"Vehicle Name:\", bus.name, \"Speed:\", bus.max_speed, \"Mileage:\", bus.mileage)"
      ]
    }
  ],
  "metadata": {
    "colab": {
      "collapsed_sections": [],
      "name": "DS_D5_DIY_Solution_V1.0.ipynb",
      "provenance": []
    },
    "kernelspec": {
      "display_name": "Python 3.9.7",
      "language": "python",
      "name": "python3"
    },
    "language_info": {
      "codemirror_mode": {
        "name": "ipython",
        "version": 3
      },
      "file_extension": ".py",
      "mimetype": "text/x-python",
      "name": "python",
      "nbconvert_exporter": "python",
      "pygments_lexer": "ipython3",
      "version": "3.9.7"
    },
    "vscode": {
      "interpreter": {
        "hash": "ad2bdc8ecc057115af97d19610ffacc2b4e99fae6737bb82f5d7fb13d2f2c186"
      }
    }
  },
  "nbformat": 4,
  "nbformat_minor": 0
}
