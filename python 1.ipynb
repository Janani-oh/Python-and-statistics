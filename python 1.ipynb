{
  "cells": [
    {
      "cell_type": "markdown",
      "metadata": {
        "id": "PG60IRj6JEhR"
      },
      "source": [
        "Write a Python program to print “Hello World!”."
      ]
    },
    {
      "cell_type": "code",
      "execution_count": null,
      "metadata": {
        "colab": {
          "base_uri": "https://localhost:8080/"
        },
        "id": "ZAhQrMlpIZdd",
        "outputId": "2cdfe09f-f4fc-4120-ccad-fafeb9d7341a"
      },
      "outputs": [],
      "source": [
        "#Hello World\n",
        "print(\"Hello World!\")"
      ]
    },
    {
      "cell_type": "markdown",
      "metadata": {
        "id": "GOhE_L2PMLui"
      },
      "source": [
        "** Understanding Variables**\n",
        "\n",
        "Write a Python program to create two variables, assign integer values to them and add them using “+” operator to store the result in another variable and print it. \n"
      ]
    },
    {
      "cell_type": "code",
      "execution_count": null,
      "metadata": {
        "colab": {
          "base_uri": "https://localhost:8080/"
        },
        "id": "ABfy8szxhRUA",
        "outputId": "97eccbcb-8c16-4ee9-f936-5e177086cca8"
      },
      "outputs": [],
      "source": [
        "A = 10\n",
        "B = 20\n",
        "Res = A+B\n",
        "\n",
        "print(\"Result of addition is: \", Res)"
      ]
    },
    {
      "cell_type": "markdown",
      "metadata": {
        "id": "UBI9Ez1lMs-c"
      },
      "source": [
        "**Understanding Tokens**\n",
        "\n",
        "Write a Python program to create two variables, assign random values to them and add them using “+” operator to store the result in another variable and print it. \n"
      ]
    },
    {
      "cell_type": "code",
      "execution_count": null,
      "metadata": {
        "colab": {
          "base_uri": "https://localhost:8080/"
        },
        "id": "4dvncTXVMyIk",
        "outputId": "69c49d1c-6017-4a4c-82a2-0fe94543df6f"
      },
      "outputs": [],
      "source": [
        "#Understanding Datatypes\n",
        "A = \"hi!\"\n",
        "B = \" 10\"\n",
        "res= A+B\n",
        "print(res)"
      ]
    }
  ],
  "metadata": {
    "colab": {
      "collapsed_sections": [],
      "name": "DS_D1_DIY_V1.0.ipynb",
      "provenance": [],
      "toc_visible": true
    },
    "kernelspec": {
      "display_name": "Python 3.9.7",
      "language": "python",
      "name": "python3"
    },
    "language_info": {
      "codemirror_mode": {
        "name": "ipython",
        "version": 3
      },
      "file_extension": ".py",
      "mimetype": "text/x-python",
      "name": "python",
      "nbconvert_exporter": "python",
      "pygments_lexer": "ipython3",
      "version": "3.9.7"
    },
    "vscode": {
      "interpreter": {
        "hash": "ad2bdc8ecc057115af97d19610ffacc2b4e99fae6737bb82f5d7fb13d2f2c186"
      }
    }
  },
  "nbformat": 4,
  "nbformat_minor": 0
}
